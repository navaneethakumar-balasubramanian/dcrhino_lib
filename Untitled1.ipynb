{
 "cells": [
  {
   "cell_type": "code",
   "execution_count": 5,
   "metadata": {},
   "outputs": [],
   "source": [
    "import pandas as pd\n",
    "import numpy as np"
   ]
  },
  {
   "cell_type": "code",
   "execution_count": 3,
   "metadata": {},
   "outputs": [],
   "source": [
    "features = pd.read_csv('/home/thiago/detour_lake_mine/holes/88,5,220,DR5,5209/extracted_features.csv')"
   ]
  },
  {
   "cell_type": "code",
   "execution_count": 33,
   "metadata": {},
   "outputs": [],
   "source": [
    "for col in features.columns:\n",
    "    arr = features[col].values\n",
    "    if str(arr.dtype) != 'object':\n",
    "        if np.isnan(arr).all():\n",
    "            features = features.drop(columns=[col])"
   ]
  },
  {
   "cell_type": "code",
   "execution_count": 30,
   "metadata": {},
   "outputs": [
    {
     "data": {
      "text/plain": [
       "True"
      ]
     },
     "execution_count": 30,
     "metadata": {},
     "output_type": "execute_result"
    }
   ],
   "source": [
    "np.isnan(features['axial_multiple_left_trough_time_sample'].values).all()"
   ]
  },
  {
   "cell_type": "code",
   "execution_count": 28,
   "metadata": {},
   "outputs": [
    {
     "data": {
      "text/plain": [
       "'object'"
      ]
     },
     "execution_count": 28,
     "metadata": {},
     "output_type": "execute_result"
    }
   ],
   "source": [
    "str(features[col].values.dtype)"
   ]
  },
  {
   "cell_type": "code",
   "execution_count": 34,
   "metadata": {},
   "outputs": [
    {
     "data": {
      "text/plain": [
       "Index([u'radial_primary_peak_sample', u'axial_multiple_pk_error',\n",
       "       u'axial_multiple_peak_time_sample', u'datetime',\n",
       "       u'axial_primary_peak_sample', u'tangential_primary_peak_sample',\n",
       "       u'axial_primary_peak_time_sample',\n",
       "       u'axial_primary_left_trough_time_sample', u'axial_multiple_peak_sample',\n",
       "       u'axial_primary_zero_crossing_prior_sample', u'datetime_ts',\n",
       "       u'axial_primary_left_trough_time',\n",
       "       u'axial_primary_zero_crossing_after_sample', u'computed_elevation',\n",
       "       u'mse', u'depth', u'pseudo_ucs', u'pseudo_velocity', u'pseudo_density',\n",
       "       u'reflection_coefficient', u'axial_delay', u'axial_velocity_delay'],\n",
       "      dtype='object')"
      ]
     },
     "execution_count": 34,
     "metadata": {},
     "output_type": "execute_result"
    }
   ],
   "source": [
    "features.columns"
   ]
  },
  {
   "cell_type": "code",
   "execution_count": null,
   "metadata": {},
   "outputs": [],
   "source": []
  }
 ],
 "metadata": {
  "kernelspec": {
   "display_name": "Python 2",
   "language": "python",
   "name": "python2"
  },
  "language_info": {
   "codemirror_mode": {
    "name": "ipython",
    "version": 2
   },
   "file_extension": ".py",
   "mimetype": "text/x-python",
   "name": "python",
   "nbconvert_exporter": "python",
   "pygments_lexer": "ipython2",
   "version": "2.7.15"
  }
 },
 "nbformat": 4,
 "nbformat_minor": 2
}
