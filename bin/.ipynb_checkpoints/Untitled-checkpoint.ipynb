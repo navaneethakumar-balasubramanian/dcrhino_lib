{
 "cells": [
  {
   "cell_type": "code",
   "execution_count": 62,
   "metadata": {},
   "outputs": [],
   "source": [
    "import pandas as pd\n",
    "import os\n",
    "import numpy as np\n",
    "\n"
   ]
  },
  {
   "cell_type": "code",
   "execution_count": 63,
   "metadata": {},
   "outputs": [
    {
     "name": "stderr",
     "output_type": "stream",
     "text": [
      "/home/thiago/anaconda2/lib/python2.7/site-packages/IPython/core/interactiveshell.py:2714: DtypeWarning: Columns (0,1,2) have mixed types. Specify dtype option on import or set low_memory=False.\n",
      "  interactivity=interactivity, compiler=compiler, result=result)\n"
     ]
    }
   ],
   "source": [
    "mwd = pd.read_csv('/home/thiago/Downloads/mount_milligan_machine3_raw.csv')"
   ]
  },
  {
   "cell_type": "code",
   "execution_count": 98,
   "metadata": {},
   "outputs": [
    {
     "ename": "TypeError",
     "evalue": "unsupported operand type(s) for +: 'int' and 'str'",
     "output_type": "error",
     "traceback": [
      "\u001b[0;31m---------------------------------------------------------------------------\u001b[0m",
      "\u001b[0;31mTypeError\u001b[0m                                 Traceback (most recent call last)",
      "\u001b[0;32m<ipython-input-98-3443904295fd>\u001b[0m in \u001b[0;36m<module>\u001b[0;34m()\u001b[0m\n\u001b[1;32m     47\u001b[0m         \u001b[0mextracted_path\u001b[0m \u001b[0;34m=\u001b[0m \u001b[0mos\u001b[0m\u001b[0;34m.\u001b[0m\u001b[0mpath\u001b[0m\u001b[0;34m.\u001b[0m\u001b[0mjoin\u001b[0m\u001b[0;34m(\u001b[0m\u001b[0mout_d\u001b[0m\u001b[0;34m,\u001b[0m\u001b[0;34m'extracted_features_'\u001b[0m \u001b[0;34m+\u001b[0m \u001b[0mdefault_name\u001b[0m\u001b[0;34m)\u001b[0m\u001b[0;34m\u001b[0m\u001b[0m\n\u001b[1;32m     48\u001b[0m         \u001b[0moutput_path\u001b[0m \u001b[0;34m=\u001b[0m \u001b[0mos\u001b[0m\u001b[0;34m.\u001b[0m\u001b[0mpath\u001b[0m\u001b[0;34m.\u001b[0m\u001b[0mjoin\u001b[0m\u001b[0;34m(\u001b[0m\u001b[0mout_d\u001b[0m\u001b[0;34m,\u001b[0m\u001b[0;34m'merged_'\u001b[0m\u001b[0;34m+\u001b[0m\u001b[0mdefault_name\u001b[0m\u001b[0;34m)\u001b[0m\u001b[0;34m\u001b[0m\u001b[0m\n\u001b[0;32m---> 49\u001b[0;31m         \u001b[0;32mprint\u001b[0m \u001b[0mcounter\u001b[0m \u001b[0;34m+\u001b[0m \u001b[0;34m\" \"\u001b[0m \u001b[0;34m+\u001b[0m \u001b[0moutput_path\u001b[0m\u001b[0;34m\u001b[0m\u001b[0m\n\u001b[0m\u001b[1;32m     50\u001b[0m         \u001b[0mmerge\u001b[0m\u001b[0;34m(\u001b[0m\u001b[0mmwd_path\u001b[0m\u001b[0;34m,\u001b[0m\u001b[0mextracted_path\u001b[0m\u001b[0;34m,\u001b[0m\u001b[0moutput_path\u001b[0m\u001b[0;34m)\u001b[0m\u001b[0;34m\u001b[0m\u001b[0m\n\u001b[1;32m     51\u001b[0m \u001b[0;34m\u001b[0m\u001b[0m\n",
      "\u001b[0;31mTypeError\u001b[0m: unsupported operand type(s) for +: 'int' and 'str'"
     ]
    }
   ],
   "source": [
    "d = '/home/thiago/Downloads/OneDrive_1_10-9-2018/Mount_MIlligan_Oversampled'\n",
    "out_d = '/home/thiago/Downloads/OneDrive_1_10-9-2018/processed/'\n",
    "files = filter(lambda x: os.path.isfile(os.path.join(d, x)), os.listdir(d))\n",
    "\n",
    "\n",
    "for file in files:\n",
    "    if file.startswith('965') and not file.endswith('_bottom.csv') and not file.endswith('_top.csv'):\n",
    "        complete_features = pd.read_csv(os.path.join(d,file))\n",
    "        \n",
    "        bottom = file.replace('.csv','_bottom.csv')\n",
    "        if bottom in files:\n",
    "            bottom = pd.read_csv(os.path.join(d,bottom))\n",
    "            complete_features = pd.concat([complete_features,bottom])\n",
    "            \n",
    "            \n",
    "        top = file.replace('.csv','_top.csv')\n",
    "        if top in files:\n",
    "            top = pd.read_csv(os.path.join(d,top))\n",
    "            complete_features = pd.concat([top,complete_features])\n",
    "        output_features = os.path.join(out_d,'extracted_features_'+file)\n",
    "        complete_features.to_csv(output_features)\n",
    "    \n",
    "    if file.startswith('hole_mwd_965') and not file.endswith('_bottom.csv') and not file.endswith('_top.csv'):\n",
    "        complete_mwd = pd.read_csv(os.path.join(d,file))\n",
    "        \n",
    "        bottom = file.replace('.csv','_bottom.csv')\n",
    "        if bottom in files:\n",
    "            bottom = pd.read_csv(os.path.join(d,bottom))\n",
    "            complete_mwd = pd.concat([complete_mwd,bottom])\n",
    "            \n",
    "            \n",
    "        top = file.replace('.csv','_top.csv')\n",
    "        if top in files:\n",
    "            top = pd.read_csv(os.path.join(d,top))\n",
    "            complete_mwd = pd.concat([top,complete_mwd])\n",
    "            \n",
    "        output_mwd = os.path.join(out_d,file)\n",
    "        complete_mwd.to_csv(output_mwd)\n",
    "    \n",
    "files = filter(lambda x: os.path.isfile(os.path.join(out_d, x)), os.listdir(out_d)) \n",
    "counter = 0\n",
    "for file in files:\n",
    "    if file.startswith('extracted'):\n",
    "        counter +=1\n",
    "        default_name = file.replace('extracted_features_','')\n",
    "        mwd_path = os.path.join(out_d,'hole_mwd_' + default_name)\n",
    "        extracted_path = os.path.join(out_d,'extracted_features_' + default_name)\n",
    "        output_path = os.path.join(out_d,'merged_'+default_name)\n",
    "        print str(counter) + \" \" + output_path\n",
    "        merge(mwd_path,extracted_path,output_path)\n",
    "        \n"
   ]
  },
  {
   "cell_type": "code",
   "execution_count": 95,
   "metadata": {},
   "outputs": [],
   "source": [
    "import pandas as pd\n",
    "import os\n",
    "\n",
    "import numpy as np\n",
    "\n",
    "\n",
    "def merge(mwd_path,extracted_path,output_path):\n",
    "    #print ('a')\n",
    "    extracted = pd.read_csv(extracted_path)\n",
    "    mwd = pd.read_csv(mwd_path)\n",
    "    \n",
    "    ucs = []\n",
    "    velocity = []\n",
    "    density = []\n",
    "    reflection =[]\n",
    "    for dt in mwd['time_end_utc']:\n",
    "        values = extracted['pseudo_ucs'][extracted['datetime'] == dt].values\n",
    "        if len(values) >0 :\n",
    "            ucs.append(values[0])\n",
    "        else:\n",
    "            ucs.append(np.nan)\n",
    "            \n",
    "        values = extracted['pseudo_velocity'][extracted['datetime'] == dt].values\n",
    "        if len(values) >0 :\n",
    "            velocity.append(values[0])\n",
    "        else:\n",
    "            velocity.append(np.nan)\n",
    "            \n",
    "        values = extracted['pseudo_density'][extracted['datetime'] == dt].values\n",
    "        if len(values) >0 :\n",
    "            density.append(values[0])\n",
    "        else:\n",
    "            density.append(np.nan)\n",
    "            \n",
    "        values = extracted['reflection_coefficient'][extracted['datetime'] == dt].values\n",
    "        if len(values) >0 :\n",
    "            reflection.append(values[0])\n",
    "        else:\n",
    "            reflection.append(np.nan)\n",
    "    \n",
    "    mwd['pseudo_ucs'] = ucs\n",
    "    mwd['pseudo_velocity'] = velocity\n",
    "    mwd['pseudo_density'] = density\n",
    "    mwd['reflection_coefficient'] = reflection\n",
    "    \n",
    "    mwd.to_csv(output_path)\n",
    "\n",
    "\n",
    "    \n",
    "def process_dir(path):\n",
    "    #print (path)\n",
    "    d = path\n",
    "    directories = filter(lambda x: os.path.isdir(os.path.join(d, x)), os.listdir(d))\n",
    "    files = filter(lambda x: os.path.isfile(os.path.join(d, x)), os.listdir(d))\n",
    "    \n",
    "    for direc in directories:\n",
    "        process_dir(os.path.join(path,direc))\n",
    "    \n",
    "    if 'hole_mwd.csv' in files:\n",
    "        if 'extracted_features.csv' in files:\n",
    "\n",
    "            merge(os.path.join(path,'hole_mwd.csv'),os.path.join(path,'extracted_features.csv'),path)\n",
    "\n",
    "\n",
    "d = '/home/thiago/Downloads/mmm_over_2018_10_08'\n",
    "#process_dir(d)\n",
    "\n",
    "#files = dirs_in_path()\n",
    "#if item in dirs:"
   ]
  },
  {
   "cell_type": "code",
   "execution_count": null,
   "metadata": {},
   "outputs": [],
   "source": []
  }
 ],
 "metadata": {
  "kernelspec": {
   "display_name": "Python 2",
   "language": "python",
   "name": "python2"
  },
  "language_info": {
   "codemirror_mode": {
    "name": "ipython",
    "version": 2
   },
   "file_extension": ".py",
   "mimetype": "text/x-python",
   "name": "python",
   "nbconvert_exporter": "python",
   "pygments_lexer": "ipython2",
   "version": "2.7.15"
  }
 },
 "nbformat": 4,
 "nbformat_minor": 2
}
